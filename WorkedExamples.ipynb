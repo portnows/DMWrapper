{
 "cells": [
  {
   "cell_type": "code",
   "execution_count": 1,
   "metadata": {},
   "outputs": [],
   "source": [
    "from DM import DM"
   ]
  },
  {
   "cell_type": "code",
   "execution_count": 2,
   "metadata": {},
   "outputs": [],
   "source": [
    "# username and password go here\n",
    "dm = DM('username', \"password\")"
   ]
  },
  {
   "cell_type": "code",
   "execution_count": 3,
   "metadata": {},
   "outputs": [],
   "source": [
    "# download a doc when I know the document id\n",
    "dm.download_doc('459381', 'C:/Users/PortnowS/Downloads/DownloadedFile.xlsx')"
   ]
  },
  {
   "cell_type": "code",
   "execution_count": 4,
   "metadata": {},
   "outputs": [
    {
     "data": {
      "text/plain": [
       "'271501'"
      ]
     },
     "execution_count": 4,
     "metadata": {},
     "output_type": "execute_result"
    }
   ],
   "source": [
    "# upload a doc\n",
    "profile_info = {\n",
    "    'formType': ' ENGAGEMENT_DM10',\n",
    "    'Library': 'FY21_ALL_STAFF',\n",
    "    'Author': 'PORTNOWS',\n",
    "    'FileName': 'TESTINGTESTINGTESTING',\n",
    "    'Date': '12/28/2020',\n",
    "    'DocumentType': 'ANALYSIS',\n",
    "    'JobCode': '103181',\n",
    "    'Agency': 'FGOVT-WIDE',\n",
    "    'Goal': '0000',\n",
    "    'Typist': 'PORTNOWS',\n",
    "    'Abstract': '',\n",
    "    'App': 'ACROBAT',\n",
    "    'Cat': 'ENGAGEMENT',\n",
    "    'Func': 'INVALID PROFILE',\n",
    "    'Act': 'INVALID PROFILE',\n",
    "    'Part': 'INVALID PROFILE'\n",
    "}\n",
    "dm.upload_doc('C:/Users/PortnowS/Downloads/ESLII.pdf', profile_info)"
   ]
  },
  {
   "cell_type": "code",
   "execution_count": null,
   "metadata": {},
   "outputs": [],
   "source": [
    "# search on author\n",
    "dm.full_search({'AUTHOR_ID': 'PORTNOWS'})"
   ]
  },
  {
   "cell_type": "code",
   "execution_count": null,
   "metadata": {},
   "outputs": [],
   "source": [
    "# take a document i know the doc number of and return all of its properties;\n",
    "# this is useful for knowning how to upload documents\n",
    "dm.return_all_properties('270038')"
   ]
  }
 ],
 "metadata": {
  "kernelspec": {
   "display_name": "Python 3",
   "language": "python",
   "name": "python3"
  },
  "language_info": {
   "codemirror_mode": {
    "name": "ipython",
    "version": 3
   },
   "file_extension": ".py",
   "mimetype": "text/x-python",
   "name": "python",
   "nbconvert_exporter": "python",
   "pygments_lexer": "ipython3",
   "version": "3.7.3"
  }
 },
 "nbformat": 4,
 "nbformat_minor": 2
}
